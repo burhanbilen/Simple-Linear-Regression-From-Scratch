{
 "cells": [
  {
   "cell_type": "code",
   "execution_count": 1,
   "id": "c4bce224",
   "metadata": {},
   "outputs": [],
   "source": [
    "import numpy as np\n",
    "import matplotlib.pyplot as plt"
   ]
  },
  {
   "cell_type": "code",
   "execution_count": 2,
   "id": "10496cf2",
   "metadata": {
    "scrolled": true,
    "tags": []
   },
   "outputs": [],
   "source": [
    "class linreg:\n",
    "    def __init__(self, x, y): # Initialize class values\n",
    "        self.x = x\n",
    "        self.y = y\n",
    "    \n",
    "    def beta(self) -> float: # beta: B - Function to compute Beta using the formula\n",
    "        n = len(self.x)\n",
    "        avg_x = np.mean(self.x) # x üzeri _\n",
    "        avg_y = np.mean(self.y)\n",
    "        \n",
    "        return (sum(list(xi*yi for xi,yi in zip(self.x, self.y)))-(n*avg_x*avg_y)) / (sum(list(xi**2 for xi in self.x))-(n*avg_x**2))\n",
    "\n",
    "    def a(self, B: float) -> float: # Function to compute constant value a, using the formula. (Beta0)\n",
    "        avg_x = np.mean(self.x)\n",
    "        avg_y = np.mean(self.y)\n",
    "        \n",
    "        return (avg_y - (B * avg_x))\n",
    "    \n",
    "    def r2(self, y_pred, y_true): # y_pred = y_hat\n",
    "        '''\n",
    "        r2 = SSR/SST = 1 - sum((yi_hat-y_i)^2)/sum((yi-y_mean)^2)\n",
    "        '''\n",
    "        r2_score = 1 - (sum(pow((yi-yi_hat), 2) for yi, yi_hat in zip(y_true, y_pred)) / sum(pow((yi-np.mean(y_true)), 2) for yi in y_true))\n",
    "        \n",
    "        return r2_score\n",
    "    \n",
    "    def fit(self) -> list: # Training\n",
    "        self.B = self.beta()\n",
    "        self.const_a = self.a(self.B)\n",
    "        \n",
    "        return [f\"beta: {self.B}, a: {self.const_a}\"]\n",
    "    \n",
    "    def predict(self, x_test: list) -> list: # Prediction - Y = a + B*x\n",
    "        return list(self.const_a + self.B*xi for xi in x_test)\n",
    "            \n",
    "    def error(self, actual = None, predicted = None):\n",
    "        if actual == None or predicted == None:\n",
    "            actual = self.y\n",
    "            predicted = self.predict(self.x)\n",
    "            \n",
    "        mae = sum(abs(y_actual-y_pred) for y_actual, y_pred in zip(actual, predicted))/len(actual)\n",
    "        mse = sum((y_actual-y_pred)**2 for y_actual, y_pred in zip(actual, predicted))/len(actual)\n",
    "        rmse = (sum((y_actual-y_pred)**2 for y_actual, y_pred in zip(actual, predicted))/len(actual))**(1/2)\n",
    "        \n",
    "        print(f\"Mean Absolute Error: {mae}\\nMean Squared Error: {mse}\\nRoot Mean Squared Error: {rmse}\")\n",
    "                             \n",
    "    def visualize(self, x=None, y=None): # Visualization of scatter and plot graphics\n",
    "        if x == None or y==None:\n",
    "            x = self.x\n",
    "            y = self.y\n",
    "            \n",
    "        fig, ax = plt.subplots(2, 2)\n",
    "        fig.set_size_inches(10, 10)\n",
    "        \n",
    "        ax[0][0].hist(x)\n",
    "        ax[0][0].set_title(\"Histogram Graphic for Independent Varaiable X\")\n",
    "        ax[0][0].set_xlabel(\"Count\")\n",
    "        ax[0][0].set_ylabel(\"Value\")\n",
    "        \n",
    "        ax[0][1].boxplot(x)\n",
    "        ax[0][1].set_title(\"Boxplot for Outlier Detection\")\n",
    "        \n",
    "        ax[1][0].scatter(x, y)\n",
    "        ax[1][0].set_title(\"Original Data Scatter Graphic\")\n",
    "        ax[1][0].set_xlabel(\"Array X\")\n",
    "        ax[1][0].set_ylabel(\"Array Y\")\n",
    "                \n",
    "        ax[1][1].plot(x, self.predict(x), c='red')\n",
    "        ax[1][1].scatter(x, y, alpha=0.5)\n",
    "        ax[1][1].set_title(\"Overall Graphic with Predicted Line\")\n",
    "        ax[1][1].set_xlabel(\"X-Axis\")\n",
    "        ax[1][1].set_ylabel(\"Y-Axis\")\n",
    "        \n",
    "        plt.show()"
   ]
  },
  {
   "cell_type": "code",
   "execution_count": 3,
   "id": "781ddbb8",
   "metadata": {},
   "outputs": [
    {
     "name": "stdout",
     "output_type": "stream",
     "text": [
      "*** No CODEPAGE record, no encoding_override: will use 'iso-8859-1'\n"
     ]
    }
   ],
   "source": [
    "import pandas as pd\n",
    "\n",
    "df = pd.read_excel(\"~/Downloads/slr06.xls\", engine='xlrd')\n",
    "df.head()\n",
    "\n",
    "x = df['X']\n",
    "Y = df['Y']\n",
    "\n",
    "# x.dot(Y) # İki vektörün skalar çarpımı"
   ]
  },
  {
   "cell_type": "code",
   "execution_count": 4,
   "id": "246f1842-b0d9-421c-93b4-797a34f76038",
   "metadata": {},
   "outputs": [],
   "source": [
    "upperbound = 135\n",
    "lowerbound = -100.0 # Not important in this case\n",
    "\n",
    "df.drop(df[(df.X > upperbound) | (df.X < lowerbound) ].index , inplace=True)\n",
    "\n",
    "x = df['X']\n",
    "Y = df['Y']"
   ]
  },
  {
   "cell_type": "code",
   "execution_count": 5,
   "id": "f647aaa9",
   "metadata": {},
   "outputs": [
    {
     "data": {
      "text/plain": [
       "['beta: 3.4138235600663673, a: 19.994485759114795']"
      ]
     },
     "execution_count": 5,
     "metadata": {},
     "output_type": "execute_result"
    }
   ],
   "source": [
    "lr = linreg(x, Y) # Class instance\n",
    "lr.fit() # Training"
   ]
  },
  {
   "cell_type": "code",
   "execution_count": 6,
   "id": "17e8c1c0",
   "metadata": {},
   "outputs": [
    {
     "data": {
      "image/png": "[encoded data removed]",
      "text/plain": [
       "<Figure size 720x720 with 4 Axes>"
      ]
     },
     "metadata": {
      "needs_background": "light"
     },
     "output_type": "display_data"
    },
    {
     "data": {
      "text/plain": [
       "14.0"
      ]
     },
     "execution_count": 6,
     "metadata": {},
     "output_type": "execute_result"
    }
   ],
   "source": [
    "lr.visualize() # Graphical output of the training data\n",
    "np.median(x) # Middle value of boxplot"
   ]
  },
  {
   "cell_type": "code",
   "execution_count": 7,
   "id": "5a70facf",
   "metadata": {},
   "outputs": [
    {
     "data": {
      "text/plain": [
       "0.8333466719794501"
      ]
     },
     "execution_count": 7,
     "metadata": {},
     "output_type": "execute_result"
    }
   ],
   "source": [
    "lr.r2(lr.predict(x), Y)"
   ]
  },
  {
   "cell_type": "code",
   "execution_count": 8,
   "id": "e0cdfcc1-7ebc-44e7-bc62-904d0712cbd2",
   "metadata": {},
   "outputs": [
    {
     "name": "stdout",
     "output_type": "stream",
     "text": [
      "Mean Absolute Error: 28.475678125093765\n",
      "Mean Squared Error: 1250.7419293814692\n",
      "Root Mean Squared Error: 35.36582996879147\n"
     ]
    }
   ],
   "source": [
    "lr.error()"
   ]
  }
 ],
 "metadata": {
  "kernelspec": {
   "display_name": "Python 3",
   "language": "python",
   "name": "python3"
  },
  "language_info": {
   "codemirror_mode": {
    "name": "ipython",
    "version": 3
   },
   "file_extension": ".py",
   "mimetype": "text/x-python",
   "name": "python",
   "nbconvert_exporter": "python",
   "pygments_lexer": "ipython3",
   "version": "3.9.7"
  }
 },
 "nbformat": 4,
 "nbformat_minor": 5
}
